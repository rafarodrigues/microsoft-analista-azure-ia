{
  "nbformat": 4,
  "nbformat_minor": 0,
  "metadata": {
    "colab": {
      "provenance": [],
      "authorship_tag": "ABX9TyM7wi3poenZhvSyrUPyZAke",
      "include_colab_link": true
    },
    "kernelspec": {
      "name": "python3",
      "display_name": "Python 3"
    },
    "language_info": {
      "name": "python"
    }
  },
  "cells": [
    {
      "cell_type": "markdown",
      "metadata": {
        "id": "view-in-github",
        "colab_type": "text"
      },
      "source": [
        "<a href=\"https://colab.research.google.com/github/rafarodrigues/microsoft-analista-azure-ia/blob/main/Atividade_Python_(Fun%C3%A7%C3%B5es).ipynb\" target=\"_parent\"><img src=\"https://colab.research.google.com/assets/colab-badge.svg\" alt=\"Open In Colab\"/></a>"
      ]
    },
    {
      "cell_type": "markdown",
      "source": [
        "1. Faça um programa que calcule a área de um círculo. A função deve receber o raio como argumento e retornar a área.\n",
        "\n",
        "2. Faça um programa que verifique se um número é negativo, positivo ou zero. A função deve receber um número como argumento e retornar o resultado.\n",
        "\n",
        "3. Faça um programa que converta uma temperatura em Celsius para Fahrenheit. A função deve receber a temperatura em Celsius como argumento e retornar a temperatura em Fahrenheit.\n",
        "\n",
        "4. Faça uma função que calcule o fatorial de um número. A função deve receber um número como argumento e retornar o fatorial desse número.\n",
        "\n",
        "5. Faça uma função que receba uma palavra e em seguida mostre esta invertida. Exemplo: Gabriel => leirbaG"
      ],
      "metadata": {
        "id": "PyX3S-Dr-z2E"
      }
    },
    {
      "cell_type": "code",
      "execution_count": 1,
      "metadata": {
        "colab": {
          "base_uri": "https://localhost:8080/"
        },
        "id": "TtRgE626-wmU",
        "outputId": "2cbef514-6087-46e5-aab6-a120faabcd69"
      },
      "outputs": [
        {
          "output_type": "stream",
          "name": "stdout",
          "text": [
            "Digite o raio do círculo: 3\n",
            "A área do círculo é: 28.273500000000002\n"
          ]
        }
      ],
      "source": [
        "def calcular_area_circulo(raio):\n",
        "    return 3.1415 * raio ** 2\n",
        "\n",
        "# Exemplo de uso\n",
        "raio = float(input(\"Digite o raio do círculo: \"))\n",
        "area = calcular_area_circulo(raio)\n",
        "print(\"A área do círculo é:\", area)\n"
      ]
    },
    {
      "cell_type": "code",
      "source": [
        "def verificar_numero(num):\n",
        "    if num > 0:\n",
        "        return \"Positivo\"\n",
        "    elif num < 0:\n",
        "        return \"Negativo\"\n",
        "    else:\n",
        "        return \"Zero\"\n",
        "\n",
        "numero = float(input(\"Digite um número: \"))\n",
        "resultado = verificar_numero(numero)\n",
        "print(\"O número é:\", resultado)\n"
      ],
      "metadata": {
        "colab": {
          "base_uri": "https://localhost:8080/"
        },
        "id": "3fbd6eeD_DSb",
        "outputId": "b21dbfe6-656e-4439-a3eb-62284c3921e5"
      },
      "execution_count": 2,
      "outputs": [
        {
          "output_type": "stream",
          "name": "stdout",
          "text": [
            "Digite um número: -12\n",
            "O número é: Negativo\n"
          ]
        }
      ]
    },
    {
      "cell_type": "code",
      "source": [
        "def conversao(celsius):\n",
        "    return (celsius * 9/5) + 32\n",
        "\n",
        "# Exemplo de uso\n",
        "temperatura_celsius = float(input(\"Digite a temperatura em Celsius: \"))\n",
        "temperatura_fahrenheit = conversao(temperatura_celsius)\n",
        "print(\"A temperatura em Fahrenheit é:\", temperatura_fahrenheit)\n"
      ],
      "metadata": {
        "colab": {
          "base_uri": "https://localhost:8080/"
        },
        "id": "3O9IqIoN_KUj",
        "outputId": "af573f13-0658-4165-fdaa-f073b7381c74"
      },
      "execution_count": 3,
      "outputs": [
        {
          "output_type": "stream",
          "name": "stdout",
          "text": [
            "Digite a temperatura em Celsius: 28\n",
            "A temperatura em Fahrenheit é: 82.4\n"
          ]
        }
      ]
    },
    {
      "cell_type": "code",
      "source": [
        "def calcular_fatorial(n):\n",
        "    fatorial = 1\n",
        "    for i in range(1, n + 1):\n",
        "        fatorial *= i\n",
        "    return fatorial\n",
        "\n",
        "numero = int(input(\"Digite um número para calcular o fatorial: \"))\n",
        "fatorial = calcular_fatorial(numero)\n",
        "print(\"O fatorial de\", numero, \"é:\", fatorial)"
      ],
      "metadata": {
        "colab": {
          "base_uri": "https://localhost:8080/"
        },
        "id": "LaH7c7er_UgV",
        "outputId": "09f36b5f-0bdc-4bb7-a0dd-a76c3baaf17b"
      },
      "execution_count": 6,
      "outputs": [
        {
          "output_type": "stream",
          "name": "stdout",
          "text": [
            "Digite um número para calcular o fatorial: 5\n",
            "O fatorial de 5 é: 120\n"
          ]
        }
      ]
    },
    {
      "cell_type": "code",
      "source": [
        "def inverter_palavra(palavra):\n",
        "    return palavra[::-1]\n",
        "\n",
        "# Exemplo de uso\n",
        "palavra = input(\"Digite uma palavra para inverter: \")\n",
        "palavra_invertida = inverter_palavra(palavra)\n",
        "print(\"A palavra invertida é:\", palavra_invertida)\n"
      ],
      "metadata": {
        "colab": {
          "base_uri": "https://localhost:8080/"
        },
        "id": "nbZ5ibfN_sVo",
        "outputId": "0f76911b-4eb7-4acb-bdf3-59f4ba909cf8"
      },
      "execution_count": 5,
      "outputs": [
        {
          "output_type": "stream",
          "name": "stdout",
          "text": [
            "Digite uma palavra para inverter: Rafael\n",
            "A palavra invertida é: leafaR\n"
          ]
        }
      ]
    }
  ]
}