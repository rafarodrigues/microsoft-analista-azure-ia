{
  "nbformat": 4,
  "nbformat_minor": 0,
  "metadata": {
    "colab": {
      "provenance": []
    },
    "kernelspec": {
      "name": "python3",
      "display_name": "Python 3"
    },
    "language_info": {
      "name": "python"
    }
  },
  "cells": [
    {
      "cell_type": "markdown",
      "source": [
        "**1. Relembre algumas coisas:**\n",
        "\n",
        "- **Criar uma VM Linux:** crie uma VM Linux e rode o nginx. [https://learn.microsoft.com/pt-br/azure/virtual-machines/linux/quick-create-portal?tabs=ubuntu](https://learn.microsoft.com/pt-br/azure/virtual-machines/linux/quick-create-portal?tabs=ubuntu)\n",
        "- **Criar uma VM Windows:** crie uma VM Windows e instale o servidor web do IIS. [https://learn.microsoft.com/pt-br/azure/virtual-machines/windows/quick-create-portal](https://learn.microsoft.com/pt-br/azure/virtual-machines/windows/quick-create-portal)\n",
        "- **Filtrar o tráfego de rede com um grupo de segurança de rede:** crie uma VNET com regras de segurança. [https://learn.microsoft.com/pt-br/azure/virtual-network/tutorial-filter-network-traffic?toc=%2Fazure%2Fvirtual-machines%2Ftoc.json](https://learn.microsoft.com/pt-br/azure/virtual-network/tutorial-filter-network-traffic?toc=%2Fazure%2Fvirtual-machines%2Ftoc.json)\n",
        "- **Criar uma atribuição de política para identificar recursos sem conformidade:** crie políticas para os recursos na nuvem. [https://learn.microsoft.com/pt-br/azure/governance/policy/assign-policy-portal?toc=%2Fazure%2Fvirtual-machines%2Ftoc.json](https://learn.microsoft.com/pt-br/azure/governance/policy/assign-policy-portal?toc=%2Fazure%2Fvirtual-machines%2Ftoc.json)\n",
        "\n",
        "**2. Laboratórios de IA:**  \n",
        "\n",
        "- **Explore os serviços de IA do Azure:** este laboratório demonstra o uso do Content Safety Studio, uma ferramenta baseada em IA para moderação de conteúdos de texto e imagem. [https://microsoftlearning.github.io/mslearn-ai-fundamentals.pt-br/Instructions/Labs/02-content-safety.html](https://microsoftlearning.github.io/mslearn-ai-fundamentals.pt-br/Instructions/Labs/02-content-safety.html)\n",
        "- **Usar a compreensão da linguagem coloquial com o Language Studio:** este laboratório demonstra a criação de um chat de comandos baseados em IA. [https://microsoftlearning.github.io/mslearn-ai-fundamentals.pt-br/Instructions/Labs/08-conversational-language-understanding.html](https://microsoftlearning.github.io/mslearn-ai-fundamentals.pt-br/Instructions/Labs/08-conversational-language-understanding.html)\n",
        "- **Explorar um índice da Pesquisa de IA do Azure (interface do usuário):** este laboratório demonstra a criação de um índice de conhecimento. [https://microsoftlearning.github.io/mslearn-ai-fundamentals.pt-br/Instructions/Labs/11-ai-search.html](https://microsoftlearning.github.io/mslearn-ai-fundamentals.pt-br/Instructions/Labs/11-ai-search.html)\n",
        "\n",
        "**3. Preparados para a etapa final:**\n",
        "\n",
        "- **Arquiteturas, diagramas e ideias de soluções oficiais do Azure:** [https://learn.microsoft.com/pt-br/azure/architecture/browse](https://learn.microsoft.com/pt-br/azure/architecture/browse)\n",
        "- **Plataforma para desenhar diagramas do Azure:** [https://azurediagrams.com](https://azurediagrams.com/)\n",
        "- **Mais templates e exemplos de diagramas:** [https://online.visual-paradigm.com/pt/diagrams/templates/azure-architecture-diagram](https://online.visual-paradigm.com/pt/diagrams/templates/azure-architecture-diagram)\n",
        "- **Calculadora de preços:** [https://azure.microsoft.com/pt-br/pricing/calculator](https://azure.microsoft.com/pt-br/pricing/calculator)\n",
        "- **Calculadora TCO:** [https://azure.microsoft.com/pt-br/pricing/tco/calculator](https://azure.microsoft.com/pt-br/pricing/tco/calculator)\n",
        "- **Conceitos básicos da arquitetura de aplicativos do Azure:** [https://learn.microsoft.com/pt-br/azure/architecture/guide/](https://learn.microsoft.com/pt-br/azure/architecture/guide/)\n",
        "\n",
        "**4. Sobre os exames:**\n",
        "\n",
        "- **Simulado oficial AZ-900:** [https://learn.microsoft.com/pt-br/credentials/certifications/azure-fundamentals/practice/assessment?assessment-type=practice&assessmentId=23&practice-assessment-type=certification](https://learn.microsoft.com/pt-br/credentials/certifications/azure-fundamentals/practice/assessment?assessment-type=practice&assessmentId=23&practice-assessment-type=certification)\n",
        "- **Simulado oficial SC-900:** [https://learn.microsoft.com/pt-br/credentials/certifications/security-compliance-and-identity-fundamentals/practice/assessment?assessment-type=practice&assessmentId=11&practice-assessment-type=certification](https://learn.microsoft.com/pt-br/credentials/certifications/security-compliance-and-identity-fundamentals/practice/assessment?assessment-type=practice&assessmentId=11&practice-assessment-type=certification)\n",
        "- **Simulado oficial AI-900:** [https://learn.microsoft.com/pt-br/credentials/certifications/azure-ai-fundamentals/practice/assessment?assessment-type=practice&assessmentId=26&practice-assessment-type=certification](https://learn.microsoft.com/pt-br/credentials/certifications/azure-ai-fundamentals/practice/assessment?assessment-type=practice&assessmentId=26&practice-assessment-type=certification)\n",
        "- **ExamTopics [Inglês]:** pesquise por um dos exames e faça simulados. [https://www.examtopics.com/](https://www.examtopics.com/)"
      ],
      "metadata": {
        "id": "bgCFGEumWZkz"
      }
    },
    {
      "cell_type": "code",
      "execution_count": null,
      "metadata": {
        "id": "ODpOmm1NWMP4"
      },
      "outputs": [],
      "source": []
    }
  ]
}