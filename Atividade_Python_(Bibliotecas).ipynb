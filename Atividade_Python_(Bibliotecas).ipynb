{
  "nbformat": 4,
  "nbformat_minor": 0,
  "metadata": {
    "colab": {
      "provenance": [],
      "authorship_tag": "ABX9TyMIUuUCn0gRHZeMSXvM1Tg0",
      "include_colab_link": true
    },
    "kernelspec": {
      "name": "python3",
      "display_name": "Python 3"
    },
    "language_info": {
      "name": "python"
    }
  },
  "cells": [
    {
      "cell_type": "markdown",
      "metadata": {
        "id": "view-in-github",
        "colab_type": "text"
      },
      "source": [
        "<a href=\"https://colab.research.google.com/github/rafarodrigues/microsoft-analista-azure-ia/blob/main/Atividade_Python_(Bibliotecas).ipynb\" target=\"_parent\"><img src=\"https://colab.research.google.com/assets/colab-badge.svg\" alt=\"Open In Colab\"/></a>"
      ]
    },
    {
      "cell_type": "markdown",
      "source": [
        "1. Escreva um programa que gere e imprima um número aleatório entre 50 e 100. Utilize a biblioteca random.\n",
        "\n",
        "2. Escreva um programa que exiba os detalhes do sistema operacional do computador. Utilize a biblioteca os.\n",
        "\n",
        "3. Escreva um programa que imprima \"Olá!\" e então aguarde 3 segundos antes de imprimir \"Mundo!\". Utilize a biblioteca time.\n",
        "\n",
        "4. Escreva um programa que solicite ao usuário que insira um número e então calcule e exiba a raiz quadrada desse número. Utilize a biblioteca math.\n",
        "\n",
        "5. Escreva um programa que gere e imprima um nome aleatório de uma pessoa. Utilize a lista de nomes a seguir:\n",
        "nomes = [\"João\", \"Ana\", \"Clara\", \"Davi\", \"Fátima\", \"Miguel\"]"
      ],
      "metadata": {
        "id": "BFG5w2jXKj6e"
      }
    },
    {
      "cell_type": "code",
      "execution_count": 1,
      "metadata": {
        "colab": {
          "base_uri": "https://localhost:8080/"
        },
        "id": "RNTiGWL_Kic6",
        "outputId": "7cc639af-56e6-4991-bffa-cab85ca4558e"
      },
      "outputs": [
        {
          "output_type": "stream",
          "name": "stdout",
          "text": [
            "52\n"
          ]
        }
      ],
      "source": [
        "import random\n",
        "\n",
        "# Gera um número aleatório entre 50 e 100\n",
        "numero_aleatorio = random.randint(50, 100)\n",
        "print(numero_aleatorio)\n"
      ]
    },
    {
      "cell_type": "code",
      "source": [
        "import os\n",
        "\n",
        "# Exibe detalhes do sistema operacional\n",
        "print(\"Nome do sistema operacional:\", os.name)\n",
        "print(\"Informações detalhadas:\", os.uname())\n"
      ],
      "metadata": {
        "colab": {
          "base_uri": "https://localhost:8080/"
        },
        "id": "teLQkpniKu3g",
        "outputId": "24026f29-2be7-4e73-f802-d6d9e55142d2"
      },
      "execution_count": 2,
      "outputs": [
        {
          "output_type": "stream",
          "name": "stdout",
          "text": [
            "Nome do sistema operacional: posix\n",
            "Informações detalhadas: posix.uname_result(sysname='Linux', nodename='1f31b4836169', release='6.1.58+', version='#1 SMP PREEMPT_DYNAMIC Sat Nov 18 15:31:17 UTC 2023', machine='x86_64')\n"
          ]
        }
      ]
    },
    {
      "cell_type": "code",
      "source": [
        "import time\n",
        "\n",
        "print(\"Olá!\")\n",
        "\n",
        "# Aguarda 3 segundos\n",
        "time.sleep(3)\n",
        "\n",
        "print(\"Mundo!\")\n"
      ],
      "metadata": {
        "colab": {
          "base_uri": "https://localhost:8080/"
        },
        "id": "R3LuVXLCKzuE",
        "outputId": "13457075-e1a6-400f-a2e3-ba34be28f077"
      },
      "execution_count": 3,
      "outputs": [
        {
          "output_type": "stream",
          "name": "stdout",
          "text": [
            "Olá!\n",
            "Mundo!\n"
          ]
        }
      ]
    },
    {
      "cell_type": "code",
      "source": [
        "import math\n",
        "\n",
        "numero = float(input(\"Digite um número: \"))\n",
        "\n",
        "# Calcula a raiz quadrada do número\n",
        "raiz_quadrada = math.sqrt(numero)\n",
        "print(f\"A raiz quadrada de {numero} é {raiz_quadrada}\")\n"
      ],
      "metadata": {
        "colab": {
          "base_uri": "https://localhost:8080/"
        },
        "id": "6ZvCTHddK5N9",
        "outputId": "07d5eeff-aed0-4742-ec5a-51568e47d204"
      },
      "execution_count": 6,
      "outputs": [
        {
          "output_type": "stream",
          "name": "stdout",
          "text": [
            "Digite um número: 9\n",
            "A raiz quadrada de 9.0 é 3.0\n"
          ]
        }
      ]
    },
    {
      "cell_type": "code",
      "source": [
        "import random\n",
        "\n",
        "nomes = [\"João\", \"Ana\", \"Clara\", \"Davi\", \"Fátima\", \"Miguel\"]\n",
        "\n",
        "# Seleciona um nome aleatório da lista\n",
        "nome_aleatorio = random.choice(nomes)\n",
        "print(nome_aleatorio)\n"
      ],
      "metadata": {
        "colab": {
          "base_uri": "https://localhost:8080/"
        },
        "id": "gCtcH7VKK9rn",
        "outputId": "5d2e98c7-5b4c-4a04-d964-34238cb52be7"
      },
      "execution_count": 5,
      "outputs": [
        {
          "output_type": "stream",
          "name": "stdout",
          "text": [
            "Ana\n"
          ]
        }
      ]
    }
  ]
}