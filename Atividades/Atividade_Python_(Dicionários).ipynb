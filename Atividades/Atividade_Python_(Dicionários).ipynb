{
  "nbformat": 4,
  "nbformat_minor": 0,
  "metadata": {
    "colab": {
      "provenance": [],
      "authorship_tag": "ABX9TyOCDuQCZRg2cb+he8cDsuKl",
      "include_colab_link": true
    },
    "kernelspec": {
      "name": "python3",
      "display_name": "Python 3"
    },
    "language_info": {
      "name": "python"
    }
  },
  "cells": [
    {
      "cell_type": "markdown",
      "metadata": {
        "id": "view-in-github",
        "colab_type": "text"
      },
      "source": [
        "<a href=\"https://colab.research.google.com/github/rafarodrigues/microsoft-analista-azure-ia/blob/main/Atividade_Python_(Dicion%C3%A1rios).ipynb\" target=\"_parent\"><img src=\"https://colab.research.google.com/assets/colab-badge.svg\" alt=\"Open In Colab\"/></a>"
      ]
    },
    {
      "cell_type": "markdown",
      "source": [
        "1. Crie um dicionário chamado \"estoque\" representando os produtos de uma loja, com os seguintes pares chave-valor:\n",
        "- \"camiseta\" - 50\n",
        "- \"calça\" - 30\n",
        "- \"sapato\" - 20\n",
        "\n",
        "Adicione o produto \"gravata\" com o valor 15 unidades ao estoque e imprima o dicionário atualizado.\n",
        "\n",
        "2.  Modifique o dicionário \"estoque\" criado no exercício anterior para reduzir a quantidade de \"calça\" em 10 unidades. Imprima o dicionário atualizado.\n",
        "\n",
        "3. Remova o produto \"sapato\" do dicionário \"estoque\" e imprima o dicionário final.\n",
        "\n",
        "4. Crie uma função chamada \"buscar_produto\" que recebe dois argumentos: um dicionário de estoque e o nome de um produto. A função deve verificar se o produto está no estoque e retornar a quantidade disponível, ou uma mensagem indicando que o produto não está disponível. Teste a função com o dicionário \"estoque\" criado anteriormente."
      ],
      "metadata": {
        "id": "P-gdRLT0lkMS"
      }
    },
    {
      "cell_type": "code",
      "execution_count": 7,
      "metadata": {
        "colab": {
          "base_uri": "https://localhost:8080/"
        },
        "id": "XnjFr2GMlar2",
        "outputId": "efd7eea0-d423-46c2-8606-b18d99b20408"
      },
      "outputs": [
        {
          "output_type": "stream",
          "name": "stdout",
          "text": [
            "Estoque atualizado: {'camiseta': 50, 'calça': 30, 'sapato': 20, 'gravata': 15}\n"
          ]
        }
      ],
      "source": [
        "estoque = {\"camiseta\": 50, \"calça\": 30, \"sapato\": 20}\n",
        "\n",
        "# Adicionando o produto \"gravata\" com 15 unidades\n",
        "estoque[\"gravata\"] = 15\n",
        "\n",
        "print(\"Estoque atualizado:\", estoque)\n"
      ]
    },
    {
      "cell_type": "code",
      "source": [
        "estoque[\"calça\"] -= 10\n",
        "\n",
        "print(\"Estoque atualizado:\", estoque)\n"
      ],
      "metadata": {
        "colab": {
          "base_uri": "https://localhost:8080/"
        },
        "id": "42VqXe3rl49e",
        "outputId": "f51fdd47-8c83-4415-91ec-196c66035c35"
      },
      "execution_count": 8,
      "outputs": [
        {
          "output_type": "stream",
          "name": "stdout",
          "text": [
            "Estoque atualizado: {'camiseta': 50, 'calça': 20, 'sapato': 20, 'gravata': 15}\n"
          ]
        }
      ]
    },
    {
      "cell_type": "code",
      "source": [
        "# Removendo sapato\n",
        "del estoque[\"sapato\"]\n",
        "\n",
        "print(\"Estoque atualizado:\", estoque)\n"
      ],
      "metadata": {
        "colab": {
          "base_uri": "https://localhost:8080/"
        },
        "id": "Opv-vQ8Pl-CO",
        "outputId": "1b7798cf-01c5-4124-fabd-20d2cfad2249"
      },
      "execution_count": 9,
      "outputs": [
        {
          "output_type": "stream",
          "name": "stdout",
          "text": [
            "Estoque atualizado: {'camiseta': 50, 'calça': 20, 'gravata': 15}\n"
          ]
        }
      ]
    },
    {
      "cell_type": "code",
      "source": [
        "def buscar_produto(estoque, produto):\n",
        "    # Verifica se o produto está no dicionário\n",
        "    if produto in estoque:\n",
        "        return f\"Quantidade disponível de {produto}: {estoque[produto]}\"\n",
        "    else:\n",
        "        return \"Produto não está disponível\"\n",
        "\n"
      ],
      "metadata": {
        "id": "qGhiScKAmI47"
      },
      "execution_count": 10,
      "outputs": []
    },
    {
      "cell_type": "code",
      "source": [
        "print(buscar_produto(estoque, \"camiseta\"))\n"
      ],
      "metadata": {
        "colab": {
          "base_uri": "https://localhost:8080/"
        },
        "id": "pYji1SGFmTX2",
        "outputId": "73c3c38d-7901-4d98-ef85-b43ab114b697"
      },
      "execution_count": 11,
      "outputs": [
        {
          "output_type": "stream",
          "name": "stdout",
          "text": [
            "Quantidade disponível de camiseta: 50\n"
          ]
        }
      ]
    },
    {
      "cell_type": "code",
      "source": [
        "\n",
        "print(buscar_produto(estoque, \"sapato\"))"
      ],
      "metadata": {
        "colab": {
          "base_uri": "https://localhost:8080/"
        },
        "id": "Yv8b--RAmU9d",
        "outputId": "8407249f-e8de-4a2b-9b70-bc7477ecb84c"
      },
      "execution_count": 12,
      "outputs": [
        {
          "output_type": "stream",
          "name": "stdout",
          "text": [
            "Produto não está disponível\n"
          ]
        }
      ]
    }
  ]
}