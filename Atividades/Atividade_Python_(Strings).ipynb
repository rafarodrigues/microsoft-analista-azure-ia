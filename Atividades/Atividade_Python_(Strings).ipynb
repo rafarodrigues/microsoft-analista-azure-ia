{
  "nbformat": 4,
  "nbformat_minor": 0,
  "metadata": {
    "colab": {
      "provenance": [],
      "authorship_tag": "ABX9TyOzWI4eTKLrj5si7mSyQFgR",
      "include_colab_link": true
    },
    "kernelspec": {
      "name": "python3",
      "display_name": "Python 3"
    },
    "language_info": {
      "name": "python"
    }
  },
  "cells": [
    {
      "cell_type": "markdown",
      "metadata": {
        "id": "view-in-github",
        "colab_type": "text"
      },
      "source": [
        "<a href=\"https://colab.research.google.com/github/rafarodrigues/microsoft-analista-azure-ia/blob/main/Atividade_Python_(Strings).ipynb\" target=\"_parent\"><img src=\"https://colab.research.google.com/assets/colab-badge.svg\" alt=\"Open In Colab\"/></a>"
      ]
    },
    {
      "cell_type": "markdown",
      "source": [
        "1. Crie um programa que recebe uma frase, e em seguida, pede uma palavra para o usuário. Você deve substituir a palavra por #####.\n",
        "\n",
        "2. Crie um programa que pede para o usuário digitar o nome de um arquivo, e ele deverá dizer se é um arquivo de música, vídeo ou documento com base na extensão(.mp3, .aac -> áudio, .mp4, .mkv -> vídeo, .pdf, .xls, .docx -> Documento);\n",
        "\n",
        "3. Crie um programa que pede o nome e em seguida o sobrenome, deve ser impresso o nome completo. Em seguida, mostre a abreviação do nome. Exemplo: “José Almir” -> “J. A”;\n",
        "\n",
        "4. Crie um programa que recebe um email e indica se ele pertence ao domínio “@soulcode.com”;"
      ],
      "metadata": {
        "id": "Zex5Sb7b0h7Q"
      }
    },
    {
      "cell_type": "code",
      "execution_count": 1,
      "metadata": {
        "colab": {
          "base_uri": "https://localhost:8080/"
        },
        "id": "D_6ysD-oz5w3",
        "outputId": "c4377d14-74a5-49b0-858f-2e9c89283112"
      },
      "outputs": [
        {
          "output_type": "stream",
          "name": "stdout",
          "text": [
            "Digite uma frase: um dois tres teste\n",
            "Digite a palavra que deseja substituir: dois\n",
            "Nova frase: um ##### tres teste\n"
          ]
        }
      ],
      "source": [
        "frase = input(\"Digite uma frase: \")\n",
        "palavra = input(\"Digite a palavra que deseja substituir: \")\n",
        "nova_frase = frase.replace(palavra, '#####')\n",
        "print(\"Nova frase:\", nova_frase)\n"
      ]
    },
    {
      "cell_type": "code",
      "source": [
        "nome_arquivo = input(\"Digite o nome do arquivo com a extensão: \")\n",
        "if nome_arquivo.endswith(('.mp3', '.aac')):\n",
        "    print(\"Este é um arquivo de áudio.\")\n",
        "elif nome_arquivo.endswith(('.mp4', '.mkv')):\n",
        "    print(\"Este é um arquivo de vídeo.\")\n",
        "elif nome_arquivo.endswith(('.pdf', '.xls', '.docx')):\n",
        "    print(\"Este é um documento.\")\n",
        "else:\n",
        "    print(\"Tipo de arquivo não reconhecido.\")"
      ],
      "metadata": {
        "colab": {
          "base_uri": "https://localhost:8080/"
        },
        "id": "72y5IoVY0ul8",
        "outputId": "1e341402-b709-4cb0-d5cc-55dd0ccf05b7"
      },
      "execution_count": 2,
      "outputs": [
        {
          "output_type": "stream",
          "name": "stdout",
          "text": [
            "Digite o nome do arquivo com a extensão: teste.mp3\n",
            "Este é um arquivo de áudio.\n"
          ]
        }
      ]
    },
    {
      "cell_type": "code",
      "source": [
        "nome = input(\"Digite seu nome: \")\n",
        "sobrenome = input(\"Digite seu sobrenome: \")\n",
        "nome_completo = nome + \" \" + sobrenome\n",
        "abreviacao = nome[0] + \". \" + sobrenome[0] + \".\"\n",
        "print(\"Nome completo:\", nome_completo)\n",
        "print(\"Abreviação:\", abreviacao)"
      ],
      "metadata": {
        "colab": {
          "base_uri": "https://localhost:8080/"
        },
        "id": "5qAqKbde00SG",
        "outputId": "c50e070b-3405-4a34-a782-047cf3c9b9ba"
      },
      "execution_count": 4,
      "outputs": [
        {
          "output_type": "stream",
          "name": "stdout",
          "text": [
            "Digite seu nome: Rafael\n",
            "Digite seu sobrenome: Rodrigues\n",
            "Nome completo: Rafael Rodrigues\n",
            "Abreviação: R. R.\n"
          ]
        }
      ]
    },
    {
      "cell_type": "code",
      "source": [
        "email = input(\"Digite seu email: \")\n",
        "if '@soulcode.com' in email:\n",
        "    print(\"O email pertence ao domínio @soulcode.com.\")\n",
        "else:\n",
        "    print(\"O email não pertence ao domínio @soulcode.com.\")"
      ],
      "metadata": {
        "colab": {
          "base_uri": "https://localhost:8080/"
        },
        "id": "koHjFE9J07WF",
        "outputId": "2a2e33b3-3684-48b9-eb71-f09aae5771a1"
      },
      "execution_count": 5,
      "outputs": [
        {
          "output_type": "stream",
          "name": "stdout",
          "text": [
            "Digite seu email: rafarodrigues33@gmail.com\n",
            "O email não pertence ao domínio @soulcode.com.\n"
          ]
        }
      ]
    }
  ]
}