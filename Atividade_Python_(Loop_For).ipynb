{
  "nbformat": 4,
  "nbformat_minor": 0,
  "metadata": {
    "colab": {
      "provenance": [],
      "authorship_tag": "ABX9TyNHPEjc5Mxer9KrBDYr7Ctq",
      "include_colab_link": true
    },
    "kernelspec": {
      "name": "python3",
      "display_name": "Python 3"
    },
    "language_info": {
      "name": "python"
    }
  },
  "cells": [
    {
      "cell_type": "markdown",
      "metadata": {
        "id": "view-in-github",
        "colab_type": "text"
      },
      "source": [
        "<a href=\"https://colab.research.google.com/github/rafarodrigues/microsoft-analista-azure-ia/blob/main/Atividade_Python_(Loop_For).ipynb\" target=\"_parent\"><img src=\"https://colab.research.google.com/assets/colab-badge.svg\" alt=\"Open In Colab\"/></a>"
      ]
    },
    {
      "cell_type": "markdown",
      "source": [
        "1. Faça um programa que imprima na tela os números de 0 a 30.\n",
        "\n",
        "2. Faça um programa que leia 5 números e informe o maior número.\n",
        "\n",
        "3. Faça um programa que imprima na tela apenas os números ímpares entre 1 e 50.\n",
        "\n",
        "4. Faça um programa que receba uma palavra e mostre quantas letras \"a\" ela possui.\n",
        "\n",
        "5. Faça um programa que encontre o primeiro divisor de 5 na lista abaixo. Ao encontrar o número a iteração deve parar imediatamente.\n",
        "numeros = [1, 2, 3, 4, 6, 7, 8, 9, 11, 12, 13, 15, 16, 17, 18, 20]"
      ],
      "metadata": {
        "id": "l0ZXybw3fy-n"
      }
    },
    {
      "cell_type": "code",
      "execution_count": null,
      "metadata": {
        "colab": {
          "base_uri": "https://localhost:8080/"
        },
        "id": "120Y2mTFfvSz",
        "outputId": "a533a0e1-fe85-418c-c531-2e29128c61fe"
      },
      "outputs": [
        {
          "output_type": "stream",
          "name": "stdout",
          "text": [
            "0\n",
            "1\n",
            "2\n",
            "3\n",
            "4\n",
            "5\n",
            "6\n",
            "7\n",
            "8\n",
            "9\n",
            "10\n",
            "11\n",
            "12\n",
            "13\n",
            "14\n",
            "15\n",
            "16\n",
            "17\n",
            "18\n",
            "19\n",
            "20\n",
            "21\n",
            "22\n",
            "23\n",
            "24\n",
            "25\n",
            "26\n",
            "27\n",
            "28\n",
            "29\n",
            "30\n"
          ]
        }
      ],
      "source": [
        "for i in range(31):\n",
        "    print(i)"
      ]
    },
    {
      "cell_type": "code",
      "source": [
        "max_number = float(-1)\n",
        "for _ in range(5):\n",
        "    number = int(input(\"Digite um número: \"))\n",
        "    if number > max_number:\n",
        "        max_number = number\n",
        "print(\"O maior número é:\", max_number)"
      ],
      "metadata": {
        "colab": {
          "base_uri": "https://localhost:8080/"
        },
        "id": "jYjyUEcBf3hW",
        "outputId": "85f33d31-428f-4688-d7f9-013238d5487a"
      },
      "execution_count": null,
      "outputs": [
        {
          "output_type": "stream",
          "name": "stdout",
          "text": [
            "Digite um número: 1\n",
            "Digite um número: 66\n",
            "Digite um número: 3\n",
            "Digite um número: 9\n",
            "Digite um número: 0\n",
            "O maior número é: 66\n"
          ]
        }
      ]
    },
    {
      "cell_type": "code",
      "source": [
        "for i in range(1, 51, 2):\n",
        "    print(i)"
      ],
      "metadata": {
        "colab": {
          "base_uri": "https://localhost:8080/"
        },
        "id": "MdkEZm_IgW15",
        "outputId": "7f1ea305-5a82-4547-8854-4a63c4e11fed"
      },
      "execution_count": null,
      "outputs": [
        {
          "output_type": "stream",
          "name": "stdout",
          "text": [
            "1\n",
            "3\n",
            "5\n",
            "7\n",
            "9\n",
            "11\n",
            "13\n",
            "15\n",
            "17\n",
            "19\n",
            "21\n",
            "23\n",
            "25\n",
            "27\n",
            "29\n",
            "31\n",
            "33\n",
            "35\n",
            "37\n",
            "39\n",
            "41\n",
            "43\n",
            "45\n",
            "47\n",
            "49\n"
          ]
        }
      ]
    },
    {
      "cell_type": "code",
      "source": [
        "palavra = input(\"Digite uma palavra: \")\n",
        "contador = palavra.count('a')\n",
        "print(\"A palavra possui\", contador, \"letras 'a'\")"
      ],
      "metadata": {
        "colab": {
          "base_uri": "https://localhost:8080/"
        },
        "id": "nDX4DpzXgaar",
        "outputId": "1afe8ed6-4b97-4bd9-c4ae-aa6e5d1b1b61"
      },
      "execution_count": null,
      "outputs": [
        {
          "output_type": "stream",
          "name": "stdout",
          "text": [
            "Digite uma palavra: Rafael\n",
            "A palavra possui 2 letras 'a'\n"
          ]
        }
      ]
    },
    {
      "cell_type": "code",
      "source": [
        "numeros = [1, 2, 3, 4, 6, 7, 8, 9, 11, 12, 13, 15, 16, 17, 18, 20]\n",
        "for num in numeros:\n",
        "    if num % 5 == 0:\n",
        "        print(\"O primeiro divisor de 5 encontrado é:\", num)\n",
        "        break\n"
      ],
      "metadata": {
        "colab": {
          "base_uri": "https://localhost:8080/"
        },
        "id": "Vc9wejktgigc",
        "outputId": "fe81e3f5-5176-463d-b9cf-f7d1297513c7"
      },
      "execution_count": null,
      "outputs": [
        {
          "output_type": "stream",
          "name": "stdout",
          "text": [
            "O primeiro divisor de 5 encontrado é: 15\n"
          ]
        }
      ]
    }
  ]
}